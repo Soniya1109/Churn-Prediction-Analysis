{
 "cells": [
  {
   "cell_type": "markdown",
   "id": "86e957e8",
   "metadata": {},
   "source": [
    "# Case Study: Churn prediction project\n",
    "\n",
    "**Data Science Use Case in Marketing**: Customer Churn Rate Prediction\n",
    "Customer churn is a tendency of customers to cancel their subscriptions to a service they have been using and, hence, stop being a client of that service. Customer churn rate is the percentage of churned customers within a predefined time interval. It's the opposite of the customer growth rate that tracks new clients.\n",
    "\n",
    "Customer churn rate is a very important indicator of customer satisfaction and the overall business wellness of the company. Apart from natural churn which always takes place in any business, or seasonable churn typical of some services, there are other factors that can mean something in the company has gone wrong and should be fixed. These factors are:\n",
    "\n",
    "* lack or low quality of customer support<br>,\n",
    "*  negative customer experiences<br>,\n",
    "* switching to a competitor with better conditions or pricing strategy<br>,\n",
    "* customers’ priorities changed<br>,\n",
    "* long-time customers don’t feel satisfied<br>,\n",
    "* the service didn't meet customers’ expectations<br>,\n",
    "* finance issues<br>,\n",
    "* fraud protection on customers' payments<br>.\n",
    "\n",
    "High customer churn rate represents a serious problem for any company for the following reasons:\n",
    "\n",
    "* It correlates with the company's revenue loss<br>.\n",
    "* It takes much more money to acquire new customers than to retain the existing ones. This is especially true for highly ** competitive markets<br>.\n",
    "* In the case of churning because of poor customer service, the company's reputation may be heavily damaged because of negative reviews left by unsatisfied ex-customers on social media or review websites<br>.\n",
    "Customer retention is a crucial component of the business strategy for all subscription-based services. To predict customer churn rate and undertake the corresponding preventive measures, it's necessary to gather and analyze the information on customer behavior (purchase intervals, the overall period of being a client, cancellations, follow-up calls and messages, online activity) and figure out which attributes and their combinations are characteristic to the clients that are at risk of leaving. Knowing in advance which customers may churn soon, especially in the case of high revenue or long-time customers, can help the company to focus exactly on them and develop an efficient strategy to try to convince them to stay. The approach can include a call to such clients with a special offer of a gift, discount, subscription upgrading for the same price, or any other customized experience.\n",
    "\n",
    "Technically, customer churn prediction is a typical classification problem of machine learning when the clients are labeled as \"yes\" or \"no\", in terms of being at risk of churning, or not. Let's investigate this use case in Python on real-world data.\n",
    "\n",
    "We'll use Decision Tree to predict churn\n",
    "\n",
    "\n",
    "## 1.1 \n",
    "\n",
    "* Dataset: https://drive.google.com/file/d/15C1130YVEymfJltHUFX9nZr-OGns82gJ/view?usp=drive_link\n",
    "\n"
   ]
  },
  {
   "cell_type": "markdown",
   "id": "2f3370a7",
   "metadata": {},
   "source": [
    "### Dataset  information\n",
    "\n",
    "customerID\n",
    "Customer ID\n",
    "\n",
    "gender\n",
    "Whether the customer is a male or a female\n",
    "\n",
    "SeniorCitizen\n",
    "Whether the customer is a senior citizen or not (1, 0)\n",
    "\n",
    "Partner\n",
    "Whether the customer has a partner or not (Yes, No)\n",
    "\n",
    "Dependents\n",
    "Whether the customer has dependents or not (Yes, No)\n",
    "\n",
    "tenure\n",
    "Number of months the customer has stayed with the company\n",
    "\n",
    "PhoneService\n",
    "Whether the customer has a phone service or not (Yes, No)\n",
    "\n",
    "MultipleLines\n",
    "Whether the customer has multiple lines or not (Yes, No, No phone service)\n",
    "\n",
    "InternetService\n",
    "Customer’s internet service provider (DSL, Fiber optic, No)\n",
    "\n",
    "OnlineSecurity\n",
    "Whether the customer has online security or not (Yes, No, No internet service)"
   ]
  },
  {
   "cell_type": "markdown",
   "id": "79ff1d69",
   "metadata": {},
   "source": [
    "## 1.2 Data Science Workflow\n",
    "\n",
    "#### Data preprocessing\n",
    "**Download the data, read it with pandas<br>**\n",
    "**Look at the data<br>**\n",
    "**Make column names and values look uniform<br>**\n",
    "**Check if all the columns read correctly<br>**\n",
    "**Check if the churn variable needs any preparation<br>**\n",
    "\n",
    "#### EDA\n",
    "\n",
    "**check for missing values/ treat them with right imputation techniques<br>**\n",
    "**Look at the target variable (churn)<br>**\n",
    "**Look at numerical and categorical variables<br>**\n",
    "**Visualize the data -- understand the relationship/impacts<br>**\n",
    "**Feature selection -- requires domain understanding along with techincal knowledge<br>**\n",
    "**Feature Engineering --> encoding the data/creating the new features<br>**\n",
    "**conduct a hypothesis testing if required**<br>\n",
    "\n",
    "#### Build The model\n",
    "**Setting up the framework<br>**\n",
    "**Model building<br>**\n",
    "**Feature selection<br>**\n",
    "**Model evaluation<br>**\n",
    "**model optimization<br>**\n",
    "**Model interepretation<br>**\n",
    "**Choosing the right model<br>**\n",
    "\n",
    "\n",
    "#### Deployment \n",
    "**Understand Mlops -- Machine learning operation-optional**\n"
   ]
  },
  {
   "cell_type": "markdown",
   "id": "27f18ae7",
   "metadata": {},
   "source": [
    "#### Data preprocessing\n",
    "* Download the data, read it with pandas<br>\n",
    "* Look at the data<br>\n",
    "* Make column names and values look uniform<br>\n",
    "* Check if all the columns read correctly<br>\n",
    "* Check if the churn variable needs any preparation<br>"
   ]
  },
  {
   "cell_type": "code",
   "execution_count": 3,
   "id": "23464e11",
   "metadata": {},
   "outputs": [],
   "source": [
    "#import libraries\n"
   ]
  },
  {
   "cell_type": "code",
   "execution_count": 4,
   "id": "bc963a2f",
   "metadata": {},
   "outputs": [],
   "source": [
    "#read data\n"
   ]
  },
  {
   "cell_type": "code",
   "execution_count": null,
   "id": "e7ad5479",
   "metadata": {},
   "outputs": [],
   "source": []
  },
  {
   "cell_type": "code",
   "execution_count": null,
   "id": "f9b38d55",
   "metadata": {},
   "outputs": [],
   "source": []
  },
  {
   "cell_type": "code",
   "execution_count": 5,
   "id": "131300e6",
   "metadata": {},
   "outputs": [],
   "source": [
    "#prepare data\n",
    "\n",
    "\n",
    "\n",
    "df.columns = df.columns.str.lower().str.replace(' ', '_')\n",
    "\n",
    "categorical_columns = list(df.dtypes[df.dtypes == 'object'].index)\n",
    "\n",
    "for c in categorical_columns:\n",
    "    df[c] = df[c].str.lower().str.replace(' ', '_')"
   ]
  },
  {
   "cell_type": "code",
   "execution_count": null,
   "id": "ea77246e",
   "metadata": {},
   "outputs": [],
   "source": []
  },
  {
   "cell_type": "code",
   "execution_count": 7,
   "id": "074f0298",
   "metadata": {},
   "outputs": [],
   "source": []
  },
  {
   "cell_type": "code",
   "execution_count": 8,
   "id": "a7b52876",
   "metadata": {},
   "outputs": [],
   "source": []
  },
  {
   "cell_type": "code",
   "execution_count": 9,
   "id": "cdc1b301",
   "metadata": {},
   "outputs": [],
   "source": []
  },
  {
   "cell_type": "code",
   "execution_count": 11,
   "id": "151c489c",
   "metadata": {},
   "outputs": [],
   "source": [
    "#convert churn variable to int\n",
    "\n",
    "df.churn = (df.churn == 'yes').astype(int)"
   ]
  },
  {
   "cell_type": "markdown",
   "id": "176fdecb",
   "metadata": {},
   "source": [
    "#### EDA\n",
    "\n",
    "* check for missing values/ treat them with right imputation techniques<br>\n",
    "* Look at the target variable (churn)<br>\n",
    "* Look at numerical and categorical variables<br>\n",
    "* Visualize the data -- understand the relationship/impacts<br>\n",
    "* Feature selection -- requires domain understanding along with techincal knowledge<br>\n",
    "* Feature Engineering --> encoding the data/creating the new features<br>\n",
    "* conduct a hypothesis testing if required<br>"
   ]
  },
  {
   "cell_type": "code",
   "execution_count": null,
   "id": "05f191f8",
   "metadata": {},
   "outputs": [],
   "source": [
    "#check for missing data"
   ]
  },
  {
   "cell_type": "code",
   "execution_count": 5,
   "id": "7143f6ab",
   "metadata": {},
   "outputs": [],
   "source": [
    "#check if class if balanced or not\n",
    "\n",
    "\n"
   ]
  },
  {
   "cell_type": "code",
   "execution_count": 6,
   "id": "ba26e630",
   "metadata": {},
   "outputs": [],
   "source": [
    "#check for the mean churn value"
   ]
  },
  {
   "cell_type": "code",
   "execution_count": 21,
   "id": "1af226d3",
   "metadata": {},
   "outputs": [],
   "source": [
    "#check for numerical columns\n",
    "\n",
    "\n"
   ]
  },
  {
   "cell_type": "code",
   "execution_count": 22,
   "id": "3f175e58",
   "metadata": {},
   "outputs": [],
   "source": [
    "#check for categorical columns\n",
    "\n",
    "\n"
   ]
  },
  {
   "cell_type": "code",
   "execution_count": 7,
   "id": "c89428a7",
   "metadata": {},
   "outputs": [],
   "source": [
    "#check for unique values in each categorical columns\n"
   ]
  },
  {
   "cell_type": "code",
   "execution_count": null,
   "id": "69af5e9f",
   "metadata": {},
   "outputs": [],
   "source": []
  }
 ],
 "metadata": {
  "kernelspec": {
   "display_name": "Python 3 (ipykernel)",
   "language": "python",
   "name": "python3"
  },
  "language_info": {
   "codemirror_mode": {
    "name": "ipython",
    "version": 3
   },
   "file_extension": ".py",
   "mimetype": "text/x-python",
   "name": "python",
   "nbconvert_exporter": "python",
   "pygments_lexer": "ipython3",
   "version": "3.10.13"
  }
 },
 "nbformat": 4,
 "nbformat_minor": 5
}
